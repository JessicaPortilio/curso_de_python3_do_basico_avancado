{
 "cells": [
  {
   "cell_type": "markdown",
   "id": "658785a0",
   "metadata": {},
   "source": [
    "# Este é um exemplo de Notebook\n",
    "\n",
    "<p>Você pode criar parágrafos simplesmente escrevendo o texto como preferir.</p>\n",
    "\n",
    "Para códigos, adicione <code>&#96;</code> antes e <code>&#96;</code> depois para códigos de uma linha, e <code>&#96;&#96;&#96;</code> antes e <code>&#96;&#96;&#96;</code> depois para códigos de várias linhas. **Exemplo de uma linha:** `print(123)`.\n",
    "\n",
    "**Exemplo de várias linhas:**\n",
    "\n",
    "```python\n",
    "lista = [\n",
    "    {'nome': 'Luiz', 'sobrenome': 'miranda'},\n",
    "    {'nome': 'Maria', 'sobrenome': 'Oliveira'},\n",
    "    {'nome': 'Daniel', 'sobrenome': 'Silva'},\n",
    "    {'nome': 'Eduardo', 'sobrenome': 'Moreira'},\n",
    "    {'nome': 'Aline', 'sobrenome': 'Souza'},\n",
    "]\n",
    "```\n",
    "\n",
    "## Negrito e itálico\n",
    "\n",
    "* \\** e \\** - **Negrito**\n",
    "* \\* e \\* - *Itálico*\n",
    "\n",
    "## Blockquote\n",
    "\n",
    "Responder as perguntas dos coleguinhas, pode te ajudar a aprender muito mais. \n",
    "\n",
    "> If you can't explain it simply, you don't understand it well enough.\n",
    "> Albert Einstein\n",
    "\n",
    "## Listas\n",
    "\n",
    "Aqui uma lista ordenada:\n",
    "\n",
    "1. Albert Einstein\n",
    "2. Carl Sagan\n",
    "3. Guido van Rossum\n",
    "\n",
    "Aqui está uma lista não ordenada:\n",
    "\n",
    "- Albert Einstein\n",
    "- Carl Sagan\n",
    "- Guido van Rossum\n",
    "\n",
    "## Imagem e links\n",
    "\n",
    "Olha só:\n",
    "\n",
    "![A logo do Python](https://upload.wikimedia.org/wikipedia/commons/c/c3/Python-logo-notext.svg)\n",
    "\n",
    "A imagem acima está [neste link](https://upload.wikimedia.org/wikipedia/commons/c/c3/Python-logo-notext.svg).\n",
    "\n",
    "## Tabela\n",
    "\n",
    "Abaixo uma tabela HTML:\n",
    "\n",
    "| Aqui temos uma tabela | Com mais uma coluna |\n",
    "|-----------------------|---------------------|\n",
    "| Aqui temos uma linha  | Outra coluna        |\n",
    "| Aqui temos uma linha  | Outra coluna        |\n",
    "| Aqui temos uma linha  | Outra coluna        |\n",
    "| Coluna                | Outra               |\n",
    "\n",
    "## Abaixo uma linha horizontal\n",
    "\n",
    "a\n",
    "\n",
    "---\n",
    "\n",
    "b\n",
    "\n",
    "## HTML puro\n",
    "\n",
    "<div style=\"padding: 30px; margin: 10px; background: #ccc;\">\n",
    "<p>Aqui vemos um &lt;p&gt;. Você pode usar qualquer tag HTML normal.</p>\n",
    "</div>\n"
   ]
  },
  {
   "cell_type": "markdown",
   "id": "e1e178fb",
   "metadata": {},
   "source": [
    "# Renderizando HTML"
   ]
  },
  {
   "cell_type": "code",
   "execution_count": 15,
   "id": "e5592d45",
   "metadata": {
    "scrolled": true
   },
   "outputs": [
    {
     "data": {
      "text/html": [
       "<span style=\"color: red;\">\n",
       "<b>ISSO É HTML</b><br />\n",
       "Este texto deve estar vermelho.\n",
       "</span>\n"
      ],
      "text/plain": [
       "<IPython.core.display.HTML object>"
      ]
     },
     "metadata": {},
     "output_type": "display_data"
    }
   ],
   "source": [
    "%%HTML\n",
    "<span style=\"color: red;\">\n",
    "<b>ISSO É HTML</b><br />\n",
    "Este texto deve estar vermelho.\n",
    "</span>"
   ]
  },
  {
   "cell_type": "code",
   "execution_count": null,
   "id": "66354e92",
   "metadata": {},
   "outputs": [],
   "source": [
    "%%HTML\n",
    "<h1>Vídeo do youtube</h1>\n",
    "<iframe width=\"560\" height=\"315\" src=\"https://www.youtube.com/embed/T17BTNKBeJY\" frameborder=\"0\"></iframe>"
   ]
  },
  {
   "cell_type": "markdown",
   "id": "2c7b4831",
   "metadata": {},
   "source": [
    "# Gráficos com matplotlib"
   ]
  },
  {
   "cell_type": "markdown",
   "id": "30426e36",
   "metadata": {},
   "source": [
    "Um exemplo de USO do módulo `matplotlib`.\n",
    "\n",
    "Primeiro vamos instalar o módulo usando `!` antes do comando."
   ]
  },
  {
   "cell_type": "code",
   "execution_count": null,
   "id": "f66f6fc0",
   "metadata": {},
   "outputs": [],
   "source": [
    "!pip install matplotlib"
   ]
  },
  {
   "cell_type": "code",
   "execution_count": null,
   "id": "5b8cb5d1",
   "metadata": {},
   "outputs": [],
   "source": [
    "import matplotlib.pyplot as plt\n",
    "\n",
    "fig, ax = plt.subplots()\n",
    "\n",
    "fruits = ['apple', 'blueberry', 'cherry', 'orange']\n",
    "counts = [40, 100, 30, 55]\n",
    "bar_labels = ['red', 'blue', '_red', 'orange']\n",
    "bar_colors = ['tab:red', 'tab:blue', 'tab:red', 'tab:orange']\n",
    "\n",
    "ax.bar(fruits, counts, label=bar_labels, color=bar_colors)\n",
    "\n",
    "ax.set_ylabel('fruit supply')\n",
    "ax.set_title('Fruit supply by kind and color')\n",
    "ax.legend(title='Fruit color')\n",
    "\n",
    "plt.show()"
   ]
  },
  {
   "cell_type": "markdown",
   "id": "d82bdcca",
   "metadata": {},
   "source": [
    "# Comandos no seu computador"
   ]
  },
  {
   "cell_type": "markdown",
   "id": "325915f3",
   "metadata": {},
   "source": [
    "Use o `!` para comandos do seu computador."
   ]
  },
  {
   "cell_type": "code",
   "execution_count": null,
   "id": "507bef38",
   "metadata": {},
   "outputs": [],
   "source": [
    "!ping 127.0.0.1"
   ]
  },
  {
   "cell_type": "markdown",
   "id": "479854c8",
   "metadata": {},
   "source": [
    "# timeit\n",
    "\n",
    "Você pode ver quanto tempo levou para realizar alguma operação com `%%timeit`."
   ]
  },
  {
   "cell_type": "code",
   "execution_count": null,
   "id": "c9fb4e7b",
   "metadata": {},
   "outputs": [],
   "source": [
    "%%timeit\n",
    "lista = [x * 2 for x in range(100000)]"
   ]
  },
  {
   "cell_type": "markdown",
   "id": "048caf04",
   "metadata": {},
   "source": [
    "# Exibindo Pandas Dataframe"
   ]
  },
  {
   "cell_type": "code",
   "execution_count": null,
   "id": "dec0fc56",
   "metadata": {},
   "outputs": [],
   "source": [
    "!pip install numpy\n",
    "!pip install pandas"
   ]
  },
  {
   "cell_type": "code",
   "execution_count": null,
   "id": "c1ddfca3",
   "metadata": {},
   "outputs": [],
   "source": [
    "import pandas as pd\n",
    "import numpy as np\n",
    "\n",
    "df = pd.DataFrame(np.random.randn(18,5))\n",
    "df"
   ]
  }
 ],
 "metadata": {
  "kernelspec": {
   "display_name": "Python 3 (ipykernel)",
   "language": "python",
   "name": "python3"
  },
  "language_info": {
   "codemirror_mode": {
    "name": "ipython",
    "version": 3
   },
   "file_extension": ".py",
   "mimetype": "text/x-python",
   "name": "python",
   "nbconvert_exporter": "python",
   "pygments_lexer": "ipython3",
   "version": "3.11.1"
  },
  "vscode": {
   "interpreter": {
    "hash": "d4b58ea986700fddbea61f2811ee261ba0a6226fa64e48186a330b544c2c33ae"
   }
  }
 },
 "nbformat": 4,
 "nbformat_minor": 5
}
